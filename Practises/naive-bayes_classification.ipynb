{
  "nbformat": 4,
  "nbformat_minor": 0,
  "metadata": {
    "colab": {
      "provenance": []
    },
    "kernelspec": {
      "name": "python3",
      "display_name": "Python 3"
    },
    "language_info": {
      "name": "python"
    }
  },
  "cells": [
    {
      "cell_type": "code",
      "source": [
        "import nltk"
      ],
      "metadata": {
        "id": "MoptTVwMrjJl"
      },
      "execution_count": 11,
      "outputs": []
    },
    {
      "cell_type": "code",
      "execution_count": 12,
      "metadata": {
        "id": "_-Cz-jN0n8d8"
      },
      "outputs": [],
      "source": [
        "from nltk.tokenize import word_tokenize\n",
        "from nltk.stem import WordNetLemmatizer\n",
        "from nltk.corpus import stopwords\n",
        "from nltk.classify import NaiveBayesClassifier\n",
        "import string"
      ]
    },
    {
      "cell_type": "code",
      "source": [
        "# Training data (using a toy dataset for illustration purposes)\n",
        "training_data = [\n",
        "    (\"It was a great movie.\", \"pos\"),\n",
        "    (\"I hated the book.\", \"neg\"),\n",
        "    (\"The book was okay.\", \"pos\"),\n",
        "    (\"I absolutely loved the performance!\", \"pos\"),\n",
        "    (\"The plot was boring and predictable.\", \"neg\"),\n",
        "    (\"What an amazing experience!\", \"pos\"),\n",
        "    (\"The food was terrible.\", \"neg\"),\n",
        "    (\"I enjoyed every minute of it.\", \"pos\"),\n",
        "    (\"The service was really bad.\", \"neg\"),\n",
        "    (\"It was an unforgettable adventure!\", \"pos\"),\n",
        "    (\"I don't think I'll watch it again.\", \"neg\"),\n",
        "    (\"The soundtrack was beautiful.\", \"pos\"),\n",
        "    (\"I regret buying this product.\", \"neg\"),\n",
        "    (\"The view was breathtaking!\", \"pos\"),\n",
        "    (\"The story lacked depth.\", \"neg\"),\n",
        "    (\"I am so happy with my purchase.\", \"pos\"),\n",
        "    (\"The customer service was disappointing.\", \"neg\"),\n",
        "    (\"It was worth every penny.\", \"pos\"),\n",
        "    (\"The quality is not up to the mark.\", \"neg\"),\n",
        "    (\"I'm thrilled with the results!\", \"pos\")\n",
        "]\n"
      ],
      "metadata": {
        "id": "2u0_do5Hp3Qo"
      },
      "execution_count": 13,
      "outputs": []
    },
    {
      "cell_type": "code",
      "source": [
        "# Download the 'stopwords' dataset\n",
        "nltk.download('stopwords')"
      ],
      "metadata": {
        "colab": {
          "base_uri": "https://localhost:8080/"
        },
        "id": "Tl8O-hz8r5e9",
        "outputId": "2794ee18-1b86-4c93-f670-2f7758e3c574"
      },
      "execution_count": 15,
      "outputs": [
        {
          "output_type": "stream",
          "name": "stderr",
          "text": [
            "[nltk_data] Downloading package stopwords to /root/nltk_data...\n",
            "[nltk_data]   Unzipping corpora/stopwords.zip.\n"
          ]
        },
        {
          "output_type": "execute_result",
          "data": {
            "text/plain": [
              "True"
            ]
          },
          "metadata": {},
          "execution_count": 15
        }
      ]
    },
    {
      "cell_type": "code",
      "source": [
        "stopwords=stopwords.words(\"english\")"
      ],
      "metadata": {
        "id": "UhzQWYMRrpI-"
      },
      "execution_count": 16,
      "outputs": []
    },
    {
      "cell_type": "code",
      "source": [
        "nltk.download('wordnet')"
      ],
      "metadata": {
        "colab": {
          "base_uri": "https://localhost:8080/"
        },
        "id": "shH4LITTr9Tw",
        "outputId": "a65facb6-338b-4e03-aa45-5c7224787fc5"
      },
      "execution_count": 17,
      "outputs": [
        {
          "output_type": "stream",
          "name": "stderr",
          "text": [
            "[nltk_data] Downloading package wordnet to /root/nltk_data...\n"
          ]
        },
        {
          "output_type": "execute_result",
          "data": {
            "text/plain": [
              "True"
            ]
          },
          "metadata": {},
          "execution_count": 17
        }
      ]
    },
    {
      "cell_type": "code",
      "source": [
        "lemmatizer=WordNetLemmatizer()"
      ],
      "metadata": {
        "id": "KhV8P3x-sDQy"
      },
      "execution_count": 18,
      "outputs": []
    },
    {
      "cell_type": "code",
      "source": [
        "def extract_feature(text):\n",
        "  tokens=word_tokenize(text)\n",
        "  lower_case_tokens=[token.lower() for token in tokens]\n",
        "  features = {lemmatizer.lemmatize(token): True\n",
        "              for token in lower_case_tokens  if token not in stopwords and\n",
        "                token not in string.punctuation}\n",
        "  return features\n",
        "\n"
      ],
      "metadata": {
        "id": "ZUR8h7PuqU7-"
      },
      "execution_count": 35,
      "outputs": []
    },
    {
      "cell_type": "code",
      "source": [
        "nltk.download('punkt_tab')"
      ],
      "metadata": {
        "colab": {
          "base_uri": "https://localhost:8080/"
        },
        "id": "Cf3WiDIgs-BL",
        "outputId": "b21a2679-5582-4bb8-dde2-229b65e5b05e"
      },
      "execution_count": 36,
      "outputs": [
        {
          "output_type": "stream",
          "name": "stderr",
          "text": [
            "[nltk_data] Downloading package punkt_tab to /root/nltk_data...\n",
            "[nltk_data]   Package punkt_tab is already up-to-date!\n"
          ]
        },
        {
          "output_type": "execute_result",
          "data": {
            "text/plain": [
              "True"
            ]
          },
          "metadata": {},
          "execution_count": 36
        }
      ]
    },
    {
      "cell_type": "code",
      "source": [
        "features_sets=[(extract_feature(text),label) for (text,label) in training_data]"
      ],
      "metadata": {
        "id": "yC5smVitsjPP"
      },
      "execution_count": 37,
      "outputs": []
    },
    {
      "cell_type": "code",
      "source": [
        "classifier=NaiveBayesClassifier.train(features_sets)"
      ],
      "metadata": {
        "id": "FraFbnI1tK4c"
      },
      "execution_count": 38,
      "outputs": []
    },
    {
      "cell_type": "code",
      "source": [
        "test_text=\"I loved the movie\"\n",
        "print(\"Sentiment :\",classifier.classify(extract_feature(test_text)))"
      ],
      "metadata": {
        "colab": {
          "base_uri": "https://localhost:8080/"
        },
        "id": "TNEJlUQLuMEo",
        "outputId": "8569fe54-7619-4a22-e49b-f6304d8c1b07"
      },
      "execution_count": 41,
      "outputs": [
        {
          "output_type": "stream",
          "name": "stdout",
          "text": [
            "Sentiment : pos\n"
          ]
        }
      ]
    }
  ]
}